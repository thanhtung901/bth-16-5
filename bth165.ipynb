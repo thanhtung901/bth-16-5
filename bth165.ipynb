{
 "cells": [
  {
   "cell_type": "code",
   "execution_count": 15,
   "metadata": {},
   "outputs": [
    {
     "name": "stdout",
     "output_type": "stream",
     "text": [
      "                                  question                           answers\n",
      "0                      Thích mẫu người nào      Dễ thương, tóc dài, da trắng\n",
      "1                        Có crush ai không                 Có 1 bạn cùng lớp\n",
      "2                 Tại sao lại thích bạn dó  Vì đáp ứng những yêu cầu của tao\n",
      "3                  Có hay nói chuyện không            Hay nhắn tin messenger\n",
      "4        Bạn kia có bắt chuyện trước không                        Có đôi khi\n",
      "5   Có định rủ bạn đó về quê dịp Tết không              Có, đang đợi trả lời\n",
      "6            Có hay đi chơi với nhau không        Thường đi cùng cả nhóm bạn\n",
      "7                        Sở thích mày sao?       Thích phim, đồ ăn, thể thao\n",
      "8                           Thích phim gì?                           Phim ma\n",
      "9                           Thích chơi gì?                      chơi đá banh\n",
      "10                            Thích ăn gì?                       Ăn cơm sườn\n",
      "11            mày thích chơi bi lắc không?                                có\n",
      "12             mày chơi giỏi nhất cây nào?                          một, năm\n",
      "13          mày chơi cầu công hay cầu thủ?                               thủ\n",
      "14                 có chơi cầu lông không?                Không thường xuyên\n",
      "15                        hay chơi với ai?                       Đồng nghiệp\n",
      "16                             chơi ở đâu?                           quận 10\n",
      "17            chơi bao nhiêu lần một tuần?                             1 lần\n",
      "18                           chơi sân nào?                        sân kỳ hòa\n",
      "19                         thích phim nào?                          quái vật\n",
      "20              thích diễn viên nào không?                          không có\n",
      "21                    thích hãng phim nào?                            marvel\n",
      "22            mày thích chơi bi lắc không?                             không\n",
      "23             mày chơi giỏi nhất cây nào?                  có chơi đâu giỏi\n",
      "24          mày chơi cầu công hay cầu thủ?              có chơi đâu hỏi hoài\n",
      "25                 có chơi cầu lông không?                            có chứ\n",
      "26                        hay chơi với ai?                      chơi với hội\n",
      "27                             chơi ở đâu?                      sân cầu lông\n",
      "28            chơi bao nhiêu lần một tuần?                          mỗi ngày\n",
      "29                           chơi sân nào?   sân nhà thi đấu phú thọ quận 11\n",
      "30                         thích phim nào?                    phim giả tưởng\n",
      "31              thích diễn viên nào không?                             không\n",
      "32                    thích hãng phim nào?                        không biết\n",
      "33                  Thích chơi game không?                             thích\n",
      "34                     Thích chơi game gì?                    game người lớn\n",
      "35                 Có chơi thể thao không?                               Có.\n",
      "36                            Chơi môn gì?                          Bóng đá.\n",
      "37                   Tại sao thích môn đó?                    Tương tác cao.\n",
      "38                            Ghét môn gì?                          Bóng rổ.\n",
      "39                       Hay chơi lúc nào?                        Cuối tuần.\n",
      "40                  Có chơi với bạn không?                               Có.\n",
      "41                      Có xem phim không?                               Có.\n",
      "42                 Thường xem thể loại gì?                        Hành động.\n",
      "43                    mày tthich1 chơi gì?                      chơi đá bóng\n",
      "44                 mày thích thể loại nào?               hành động kinh điển\n",
      "45                       bạn thích làm gì?   tôi thích chơi game và học code\n",
      "46                      bạn thích phim gì?            tôi rất thích phim hài\n",
      "47             bạn thích môn thể thao nào?               tôi thích đô vật mỹ\n",
      "48                               Thích gì?                     thích đá bóng\n",
      "49                            Mày như nào?               tao đá banh hơi cùi\n"
     ]
    }
   ],
   "source": [
    "import pandas as pd\n",
    "df = pd.read_csv('./vi-QA.csv')\n",
    "print(df[0:50])"
   ]
  },
  {
   "cell_type": "code",
   "execution_count": 16,
   "metadata": {},
   "outputs": [
    {
     "name": "stdout",
     "output_type": "stream",
     "text": [
      "0                                    Thích mẫu người nào\n",
      "1                                      Có crush ai không\n",
      "2                               Tại sao lại thích bạn dó\n",
      "3                                Có hay nói chuyện không\n",
      "4                      Bạn kia có bắt chuyện trước không\n",
      "                               ...                      \n",
      "110201               King đã ủng hộ kiểu phản kháng nào?\n",
      "110202                     Tên ban đầu của Osechi là gì?\n",
      "110203    Dickens đã viết gì trong lời nói đầu năm 1876?\n",
      "110204     Stephen Harper có vai trò gì trong chính phủ?\n",
      "110205                    Khách sạn nào được quay mùa 3?\n",
      "Name: question, Length: 110206, dtype: object\n",
      "0                              Dễ thương, tóc dài, da trắng\n",
      "1                                         Có 1 bạn cùng lớp\n",
      "2                          Vì đáp ứng những yêu cầu của tao\n",
      "3                                    Hay nhắn tin messenger\n",
      "4                                                Có đôi khi\n",
      "                                ...                        \n",
      "110201                                         bất bạo động\n",
      "110202                                              o-sechi\n",
      "110203    như những bậc cha mẹ nâng niu con cái, tôi ôm ...\n",
      "110204                                            Thủ tướng\n",
      "110205                                      khách sạn Luxor\n",
      "Name: answers, Length: 110206, dtype: object\n"
     ]
    }
   ],
   "source": [
    "df_question = df['question']\n",
    "df_answers = df['answers']\n",
    "print(df_question)\n",
    "print(df_answers)"
   ]
  },
  {
   "cell_type": "code",
   "execution_count": 17,
   "metadata": {},
   "outputs": [
    {
     "data": {
      "text/plain": [
       "0                       Thích mẫu người nào\n",
       "1                         Có crush ai không\n",
       "2                  Tại sao lại thích bạn dó\n",
       "3                   Có hay nói chuyện không\n",
       "4         Bạn kia có bắt chuyện trước không\n",
       "5    Có định rủ bạn đó về quê dịp Tết không\n",
       "6             Có hay đi chơi với nhau không\n",
       "7                          Sở thích mày sao\n",
       "8                             Thích phim gì\n",
       "9                             Thích chơi gì\n",
       "Name: question, dtype: object"
      ]
     },
     "execution_count": 17,
     "metadata": {},
     "output_type": "execute_result"
    }
   ],
   "source": [
    "import string\n",
    "df['question']=df['question'].map(lambda x: (str(x).translate(str.maketrans('','',string.punctuation))))\n",
    "df['question'].head(10)"
   ]
  },
  {
   "cell_type": "code",
   "execution_count": 18,
   "metadata": {},
   "outputs": [
    {
     "data": {
      "text/plain": [
       "0          Dễ thương tóc dài da trắng\n",
       "1                   Có 1 bạn cùng lớp\n",
       "2    Vì đáp ứng những yêu cầu của tao\n",
       "3              Hay nhắn tin messenger\n",
       "4                          Có đôi khi\n",
       "5                 Có đang đợi trả lời\n",
       "6          Thường đi cùng cả nhóm bạn\n",
       "7           Thích phim đồ ăn thể thao\n",
       "8                             Phim ma\n",
       "9                        chơi đá banh\n",
       "Name: answers, dtype: object"
      ]
     },
     "execution_count": 18,
     "metadata": {},
     "output_type": "execute_result"
    }
   ],
   "source": [
    "df['answers']=df['answers'].map(lambda x: (str(x).translate(str.maketrans('','',string.punctuation))))\n",
    "df['answers'].head(10)"
   ]
  },
  {
   "cell_type": "code",
   "execution_count": 19,
   "metadata": {},
   "outputs": [],
   "source": [
    "# thêm dấu chấm vào cuối câu\n",
    "def add_period(text):\n",
    "    if text.endswith('.'):\n",
    "        return text\n",
    "    else:\n",
    "        return text + '.'\n",
    "\n",
    "df['question'] = df['question'].apply(add_period)\n",
    "df['answers'] = df['answers'].apply(add_period)"
   ]
  },
  {
   "cell_type": "code",
   "execution_count": 20,
   "metadata": {},
   "outputs": [
    {
     "data": {
      "text/plain": [
       "0                               Dễ thương tóc dài da trắng.\n",
       "1                                        Có 1 bạn cùng lớp.\n",
       "2                         Vì đáp ứng những yêu cầu của tao.\n",
       "3                                   Hay nhắn tin messenger.\n",
       "4                                               Có đôi khi.\n",
       "                                ...                        \n",
       "110201                                        bất bạo động.\n",
       "110202                                              osechi.\n",
       "110203    như những bậc cha mẹ nâng niu con cái tôi ôm ấ...\n",
       "110204                                           Thủ tướng.\n",
       "110205                                     khách sạn Luxor.\n",
       "Name: answers, Length: 110206, dtype: object"
      ]
     },
     "execution_count": 20,
     "metadata": {},
     "output_type": "execute_result"
    }
   ],
   "source": [
    "df['answers']"
   ]
  },
  {
   "cell_type": "code",
   "execution_count": 21,
   "metadata": {},
   "outputs": [],
   "source": [
    "df['full'] = df['question'].str.cat(df['answers'])"
   ]
  },
  {
   "cell_type": "code",
   "execution_count": 22,
   "metadata": {},
   "outputs": [
    {
     "data": {
      "text/plain": [
       "0           Thích mẫu người nào.Dễ thương tóc dài da trắng.\n",
       "1                      Có crush ai không.Có 1 bạn cùng lớp.\n",
       "2         Tại sao lại thích bạn dó.Vì đáp ứng những yêu ...\n",
       "3           Có hay nói chuyện không.Hay nhắn tin messenger.\n",
       "4             Bạn kia có bắt chuyện trước không.Có đôi khi.\n",
       "                                ...                        \n",
       "110201     King đã ủng hộ kiểu phản kháng nào.bất bạo động.\n",
       "110202                 Tên ban đầu của Osechi là gì.osechi.\n",
       "110203    Dickens đã viết gì trong lời nói đầu năm 1876....\n",
       "110204    Stephen Harper có vai trò gì trong chính phủ.T...\n",
       "110205       Khách sạn nào được quay mùa 3.khách sạn Luxor.\n",
       "Name: full, Length: 110206, dtype: object"
      ]
     },
     "execution_count": 22,
     "metadata": {},
     "output_type": "execute_result"
    }
   ],
   "source": [
    "df['full']\n"
   ]
  },
  {
   "cell_type": "code",
   "execution_count": 23,
   "metadata": {},
   "outputs": [],
   "source": [
    "df['full'].to_csv('full.csv', index=False)"
   ]
  },
  {
   "cell_type": "code",
   "execution_count": null,
   "metadata": {},
   "outputs": [],
   "source": []
  }
 ],
 "metadata": {
  "kernelspec": {
   "display_name": "tf",
   "language": "python",
   "name": "python3"
  },
  "language_info": {
   "codemirror_mode": {
    "name": "ipython",
    "version": 3
   },
   "file_extension": ".py",
   "mimetype": "text/x-python",
   "name": "python",
   "nbconvert_exporter": "python",
   "pygments_lexer": "ipython3",
   "version": "3.7.16"
  },
  "orig_nbformat": 4
 },
 "nbformat": 4,
 "nbformat_minor": 2
}
